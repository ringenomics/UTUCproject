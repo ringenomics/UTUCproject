{
 "cells": [
  {
   "cell_type": "code",
   "execution_count": 22,
   "id": "5b1fe207",
   "metadata": {},
   "outputs": [],
   "source": [
    "#importing libraries\n",
    "import pandas as pd\n",
    "import matplotlib\n",
    "import seaborn as sns\n",
    "import scipy.stats as stats\n",
    "import matplotlib.pyplot as plt\n",
    "import numpy as np\n",
    "import statsmodels\n",
    "from statsmodels.stats import multitest\n",
    "import statistics\n",
    "from math import sqrt\n",
    "from statsmodels.stats.power import TTestIndPower\n",
    "from SigProfilerExtractor import sigpro as sig\n",
    "import os.path\n",
    "import glob\n",
    "import fnmatch\n",
    "import os\n",
    "import shutil\n",
    "import subprocess\n",
    "import squarify\n",
    "from mycolorpy import colorlist as mcp\n",
    "import random\n",
    "\n",
    "%matplotlib inline\n",
    "\n",
    "def listdir(dirname, pattern=\"*\"):\n",
    "    return fnmatch.filter(os.listdir(dirname), pattern)"
   ]
  },
  {
   "cell_type": "code",
   "execution_count": 23,
   "id": "2ca6d865",
   "metadata": {
    "scrolled": true
   },
   "outputs": [
    {
     "name": "stdout",
     "output_type": "stream",
     "text": [
      "Pipeline has finished on sample:  TL-22-JICYR8PP_T_DSQ1\n",
      "Pipeline has finished on sample:  TL-22-DHERTUS6_T_DSQ1\n",
      "Pipeline has finished on sample:  TL-22-86QRKCES_T_DSQ1\n",
      "Pipeline has finished on sample:  TL-22-P4ACNIE3_T_DSQ1\n",
      "Pipeline has finished on sample:  TL-22-SA4HH23W_T_DSQ1\n",
      "Pipeline has finished on sample:  TL-22-PKA8ZUD2_T_DSQ1\n"
     ]
    }
   ],
   "source": [
    "#running SVIM on each sample\n",
    "\n",
    "for x in listdir(\"/Volumes/UTUCproject/DNA_Pipeline_outputs\", \"*_T_*\"):\n",
    "    bam_path = \"/Volumes/UTUCproject/DNA_Pipeline_outputs/\" + x + \"/\" + x + \".aligned.bam\"\n",
    "    #checks if the pipeline finished running on that sample\n",
    "    dedup_bam_verification = \"/Volumes/UTUCproject/DNA_Pipeline_outputs/\" + x + \"/\" + x + \".dedup.numAligned.txt\"\n",
    "    output_path = \"/Volumes/UTUCproject/DNA_Pipeline_outputs/\" + x + \"/\"\n",
    "    if os.path.isfile(dedup_bam_verification):\n",
    "        print(\"Pipeline has finished on sample: \", x)\n",
    "        potential_vcf_path = output_path + x + \"_variants.vcf\"\n",
    "        if not os.path.exists(potential_vcf_path):\n",
    "            print(\"VCF does not exist for: \", bam_path, \" generating now\")\n",
    "            subprocess.run([\"svim\", \"alignment\", output_path, bam_path, \"/Volumes/UTUCproject/DNA_Pipeline_outputs/hg19.fa\", \"--all_bnds\", \"--min_sv_size\",  \"20\", \"--sample\", x]) \n",
    "        "
   ]
  },
  {
   "cell_type": "code",
   "execution_count": 24,
   "id": "16e06196",
   "metadata": {
    "scrolled": true
   },
   "outputs": [
    {
     "name": "stdout",
     "output_type": "stream",
     "text": [
      "Pipeline has finished on sample:  TL-22-JICYR8PP_N_DSQ1\n"
     ]
    }
   ],
   "source": [
    "#running SVIM on the normal samples\n",
    "\n",
    "for x in listdir(\"/Volumes/UTUCproject/DNA_Pipeline_outputs\", \"*_N_*\"):\n",
    "    bam_path = \"/Volumes/UTUCproject/DNA_Pipeline_outputs/\" + x + \"/\" + x + \".aligned.bam\"\n",
    "    #checks if the pipeline finished running on that sample\n",
    "    dedup_bam_verification = \"/Volumes/UTUCproject/DNA_Pipeline_outputs/\" + x + \"/\" + x + \".dedup.numAligned.txt\"\n",
    "    output_path = \"/Volumes/UTUCproject/DNA_Pipeline_outputs/\" + x + \"/\"\n",
    "    if os.path.isfile(dedup_bam_verification):\n",
    "        print(\"Pipeline has finished on sample: \", x)\n",
    "        potential_vcf_path = output_path + x + \"_variants.vcf\"\n",
    "        if not os.path.exists(potential_vcf_path):\n",
    "            print(\"VCF does not exist for: \", bam_path, \" generating now\")\n",
    "            subprocess.run([\"svim\", \"alignment\", output_path, bam_path, \"/Volumes/UTUCproject/DNA_Pipeline_outputs/hg19.fa\", \"--all_bnds\", \"--min_sv_size\",  \"20\", \"--sample\", x]) \n",
    "        "
   ]
  },
  {
   "cell_type": "code",
   "execution_count": 25,
   "id": "bdbf6096",
   "metadata": {},
   "outputs": [],
   "source": [
    "#renaming files since SVIM outputs variant.vcf for every file\n",
    "#so this code labels them by sample name\n",
    "for x in listdir(\"/Volumes/UTUCproject/DNA_Pipeline_outputs\", \"*_T_*\"):\n",
    "    directory_path = \"/Volumes/UTUCproject/DNA_Pipeline_outputs/\" + x + \"/\"\n",
    "    old_name = directory_path + \"variants.vcf\"\n",
    "    new_name = directory_path + x + \"_variants.vcf\"\n",
    "    if os.path.exists(old_name):\n",
    "        os.rename(old_name, new_name)"
   ]
  },
  {
   "cell_type": "code",
   "execution_count": 26,
   "id": "87ef1a5d",
   "metadata": {},
   "outputs": [],
   "source": [
    "for x in listdir(\"/Volumes/UTUCproject/DNA_Pipeline_outputs\", \"*_N_*\"):\n",
    "    directory_path = \"/Volumes/UTUCproject/DNA_Pipeline_outputs/\" + x + \"/\"\n",
    "    old_name = directory_path + \"variants.vcf\"\n",
    "    new_name = directory_path + x + \"_variants.vcf\"\n",
    "    if os.path.exists(old_name):\n",
    "        os.rename(old_name, new_name)"
   ]
  },
  {
   "cell_type": "code",
   "execution_count": null,
   "id": "ea526c49",
   "metadata": {},
   "outputs": [],
   "source": []
  }
 ],
 "metadata": {
  "kernelspec": {
   "display_name": "Python 3 (ipykernel)",
   "language": "python",
   "name": "python3"
  },
  "language_info": {
   "codemirror_mode": {
    "name": "ipython",
    "version": 3
   },
   "file_extension": ".py",
   "mimetype": "text/x-python",
   "name": "python",
   "nbconvert_exporter": "python",
   "pygments_lexer": "ipython3",
   "version": "3.9.13"
  }
 },
 "nbformat": 4,
 "nbformat_minor": 5
}
